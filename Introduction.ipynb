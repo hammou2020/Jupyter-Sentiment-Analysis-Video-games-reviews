{
 "cells": [
  {
   "cell_type": "markdown",
   "metadata": {},
   "source": [
    "<center> <h1>Introduction</h1> </center>\n",
    "<center> <h1>Natural Language Processing and Sentiment Analysis</h1> </center>\n",
    "<center> <h2>Panayiotis Kattides</h2> </center>"
   ]
  },
  {
   "cell_type": "markdown",
   "metadata": {},
   "source": [
    "### Abstract\n",
    "Sentiment analysis or opinion mining is one of the major tasks of NLP (Natural Language Processing). This notebook illustrates a sentiment analysis approach to extract sentiments associated with polarities of positive, neutral or negative for specific subjects from a datase. The essential issues in sentiment analysis are to identify how sentiments are expressed in texts and whether the expressions indicate positive or negative opinions toward the subject. Data used in this study are online product reviews of video games collected from Amazon.com, the world's largest online marketplace. Customers are often satisfied or dissatisfied and accordingly reviewing the products. The main goal is to build a system that does better classification of those reviews than current text sentiment analysis tools, as the structure of reviews is not same as regular text. The two algorithms used for classification are Support Vector Machine and Naive Bayes working together with several python libraries such as NLTK."
   ]
  },
  {
   "cell_type": "markdown",
   "metadata": {},
   "source": [
    "### Sentiment Analysis\n",
    "Sentiment analysis is contextual mining of text which identifies and extracts subjective information in source material. It is the most common text classification tool that analyses an incoming message with the help of machine learning. Machine learning for NLP and text analytics involves a set of statistical techniques for identifying parts of speech, entities, sentiment, and other aspects of text. Text data requires a special approach to machine learning. This is because text data can have hundreds of thousands of dimensions (words and phrases) but tends to be very sparse. For example, the English language has around 100,000 words in common use. But any given review only contains a few dozen of them.\n",
    "The particular problem being examined, except of the reviews, it includes the rating of each review which plays the role of the label - the category it belongs. This fact makes this probelm a supervised machine learning problem. The reviews together with their ratings will be used in order to “train” a statistical model, which is then given un-labeled text to analyze. Some of most popular supervised NLP machine learning algorithms are:\n",
    "- Naive Bayes Classifier\n",
    "- Support Vector Machines"
   ]
  },
  {
   "cell_type": "markdown",
   "metadata": {},
   "source": [
    "### Naive Bayes Classifier"
   ]
  },
  {
   "cell_type": "markdown",
   "metadata": {},
   "source": [
    "### Support Vector Machines"
   ]
  },
  {
   "cell_type": "markdown",
   "metadata": {},
   "source": [
    "## References\n",
    "https://www.lexalytics.com/technology/sentiment-analysis (Article)"
   ]
  }
 ],
 "metadata": {
  "author": "Bibliography management:\\\\texttt{thebibliography",
  "kernelspec": {
   "display_name": "Python 3",
   "language": "python",
   "name": "python3"
  },
  "language_info": {
   "codemirror_mode": {
    "name": "ipython",
    "version": 3
   },
   "file_extension": ".py",
   "mimetype": "text/x-python",
   "name": "python",
   "nbconvert_exporter": "python",
   "pygments_lexer": "ipython3",
   "version": "3.6.5"
  },
  "latex_envs": {
   "LaTeX_envs_menu_present": true,
   "autoclose": false,
   "autocomplete": true,
   "bibliofile": "biblio.bib",
   "cite_by": "apalike",
   "current_citInitial": 1,
   "eqLabelWithNumbers": true,
   "eqNumInitial": 1,
   "hotkeys": {
    "equation": "Ctrl-E",
    "itemize": "Ctrl-I"
   },
   "labels_anchors": false,
   "latex_user_defs": false,
   "report_style_numbering": false,
   "user_envs_cfg": false
  }
 },
 "nbformat": 4,
 "nbformat_minor": 2
}

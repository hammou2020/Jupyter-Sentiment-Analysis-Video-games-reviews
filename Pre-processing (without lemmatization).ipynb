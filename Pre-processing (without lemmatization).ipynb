{
 "cells": [
  {
   "cell_type": "markdown",
   "metadata": {},
   "source": [
    "## Try #1"
   ]
  },
  {
   "cell_type": "code",
   "execution_count": 1,
   "metadata": {},
   "outputs": [
    {
     "name": "stdout",
     "output_type": "stream",
     "text": [
      "<class 'pandas.core.frame.DataFrame'>\n",
      "RangeIndex: 100 entries, 0 to 99\n",
      "Data columns (total 2 columns):\n",
      "reviewText    100 non-null object\n",
      "overall       100 non-null int64\n",
      "dtypes: int64(1), object(1)\n",
      "memory usage: 1.7+ KB\n",
      "5    53\n",
      "4    17\n",
      "1    15\n",
      "3    10\n",
      "2     5\n",
      "Name: overall, dtype: int64\n",
      "                                          reviewText  overall  overall_final\n",
      "0  [installing, the, game, was, a, struggle, (, b...        1           -1.0\n",
      "1  [if, you, like, rally, cars, get, this, game, ...        4            1.0\n",
      "2  [1st, shipment, received, a, book, instead, of...        1           -1.0\n",
      "hey yo\n"
     ]
    }
   ],
   "source": [
    "#https://medium.com/@bedigunjit/simple-guide-to-text-classification-nlp-using-svm-and-naive-bayes-with-python-421db3a72d34\n",
    "\n",
    "import pandas as pd\n",
    "import numpy as np\n",
    "from nltk.tokenize import word_tokenize\n",
    "from nltk import pos_tag\n",
    "from nltk.corpus import stopwords\n",
    "from nltk.stem import WordNetLemmatizer\n",
    "from sklearn.preprocessing import LabelEncoder\n",
    "from collections import defaultdict\n",
    "from nltk.corpus import wordnet as wn\n",
    "from sklearn.feature_extraction.text import TfidfVectorizer\n",
    "from sklearn import model_selection, naive_bayes, svm\n",
    "from sklearn.metrics import accuracy_score\n",
    "from collections import Counter\n",
    "\n",
    "#import dill\n",
    "\n",
    "if __name__ == \"__main__\":\n",
    "    \n",
    "        # Reproduce the same result every time if the script is kept consistent otherwise each run will produce different results\n",
    "        np.random.seed(500)\n",
    "    \n",
    "        #[1] Read the data\n",
    "        Corpus = pd.read_json(r\"C:\\Users\\Panos\\Desktop\\Dissert\\Code\\Sample_Video_Games_5.json\", lines=True, encoding='latin-1')\n",
    "        Corpus = Corpus[['reviewText','overall']]\n",
    "        \n",
    "        # Print some info\n",
    "        Corpus.info()\n",
    "        print(Corpus.overall.value_counts())\n",
    "        \n",
    "        #[1.5] Reduce number of classes\n",
    "        for index,entry in enumerate(Corpus['overall']):\n",
    "             if entry == 1.0 or entry == 2.0:\n",
    "                 Corpus.loc[index,'overall_final'] = -1\n",
    "             elif entry == 3.0:\n",
    "                 Corpus.loc[index,'overall_final'] = 0\n",
    "             elif entry == 4.0 or entry == 5.0:\n",
    "                 Corpus.loc[index,'overall_final'] = 1\n",
    "                \n",
    "        #[2] Preprocessing\n",
    "        \n",
    "        # Step - a : Remove blank rows if any.\n",
    "        Corpus['reviewText'].dropna(inplace=True)\n",
    "        # Step - b : Change all the text to lower case. This is required as python interprets 'dog' and 'DOG' differently\n",
    "        Corpus['reviewText'] = [entry.lower() for entry in Corpus['reviewText']]\n",
    "        # Step - c : Tokenization : In this each entry in the corpus will be broken into set of words\n",
    "        Corpus['reviewText'] = [word_tokenize(entry) for entry in Corpus['reviewText']]\n",
    "            \n",
    "        #Print the first 3 rows\n",
    "        print(Corpus.iloc[:3])\n",
    "        print(\"hey yo\")\n",
    "        \n",
    "        #dill.dump_session('notebook_env.db')"
   ]
  },
  {
   "cell_type": "code",
   "execution_count": 12,
   "metadata": {},
   "outputs": [
    {
     "name": "stdout",
     "output_type": "stream",
     "text": [
      "dict_values([53, 12, 5])\n",
      "['installing', 'the', 'game', 'was', 'a', 'struggle', '(', 'because', 'of', 'games', 'for', 'windows', 'live', 'bugs', ')', '.some', 'championship', 'races', 'and', 'cars', 'can', 'only', 'be', '``', 'unlocked', \"''\", 'by', 'buying', 'them', 'as', 'an', 'addon', 'to', 'the', 'game', '.', 'i', 'paid', 'nearly', '30', 'dollars', 'when', 'the', 'game', 'was', 'new', '.', 'i', 'do', \"n't\", 'like', 'the', 'idea', 'that', 'i', 'have', 'to', 'keep', 'paying', 'to', 'keep', 'playing.i', 'noticed', 'no', 'improvement', 'in', 'the', 'physics', 'or', 'graphics', 'compared', 'to', 'dirt', '2.i', 'tossed', 'it', 'in', 'the', 'garbage', 'and', 'vowed', 'never', 'to', 'buy', 'another', 'codemasters', 'game', '.', 'i', \"'m\", 'really', 'tired', 'of', 'arcade', 'style', 'rally/racing', 'games', 'anyway.i', \"'ll\", 'continue', 'to', 'get', 'my', 'fix', 'from', 'richard', 'burns', 'rally', ',', 'and', 'you', 'should', 'to', '.', ':', ')', 'http', ':', '//www.amazon.com/richard-burns-rally-pc/dp/b000c97156/ref=sr_1_1', '?', 'ie=utf8', '&', 'qid', ';', '=1341886844', '&', 'sr', ';', '=8-1', '&', 'keywords', ';', '=richard+burns+rallythank', 'you', 'for', 'reading', 'my', 'review', '!', 'if', 'you', 'enjoyed', 'it', ',', 'be', 'sure', 'to', 'rate', 'it', 'as', 'helpful', '.']\n"
     ]
    }
   ],
   "source": [
    "        #[3] Prepare Train and Test Data sets\n",
    "            \n",
    "        Train_X, Test_X, Train_Y, Test_Y = model_selection.train_test_split(Corpus['reviewText'],Corpus['overall_final'],test_size=0.3)\n",
    "        \n",
    "        print(Counter(Train_Y).values()) # counts the elements' frequency\n",
    "        \n",
    "        #[4] Encoding\n",
    "        \n",
    "        Encoder = LabelEncoder()\n",
    "        Train_Y = Encoder.fit_transform(Train_Y)\n",
    "        Test_Y = Encoder.fit_transform(Test_Y)\n",
    "        \n",
    "        print(Corpus['reviewText'][0])\n",
    "        \n",
    "#         #[5] Word Vectorization\n",
    "        \n",
    "#         Tfidf_vect = TfidfVectorizer(max_features=10000)\n",
    "#         Test_X_Tfidf = Tfidf_vect.fit_transform(Corpus['reviewText'])\n",
    "#         Train_X_Tfidf = Tfidf_vect.transform(Train_X)\n",
    "#         Test_X_Tfidf = Tfidf_vect.transform(Test_X)"
   ]
  },
  {
   "cell_type": "code",
   "execution_count": null,
   "metadata": {},
   "outputs": [],
   "source": [
    "        #[6] SMOTE (Synthetic Minority Over-Sampling Technique)\n",
    "        from imblearn.under_sampling import NearMiss, RandomUnderSampler\n",
    "        \n",
    "        nm = NearMiss(ratio='not minority',random_state=777, version=1, n_neighbors=1)\n",
    "        X_nm, y_nm = nm.fit_sample(Train_X_Tfidf, Train_Y)\n",
    "        \n",
    "        print(Counter(y_nm).values()) # counts the elements' frequency"
   ]
  },
  {
   "cell_type": "code",
   "execution_count": null,
   "metadata": {},
   "outputs": [],
   "source": [
    "        #the vocabulary that it has learned from the corpus\n",
    "        print(Tfidf_vect.vocabulary_)\n",
    "        \n",
    "        #the vectorized data\n",
    "        print(Train_X_Tfidf)"
   ]
  },
  {
   "cell_type": "code",
   "execution_count": null,
   "metadata": {},
   "outputs": [],
   "source": [
    "        #[7] Use the ML Algorithms to Predict the outcome\n",
    "        \n",
    "        # fit the training dataset on the NB classifier\n",
    "        Naive = naive_bayes.MultinomialNB()\n",
    "        Naive.fit(X_nm,y_nm)\n",
    "        # predict the labels on validation dataset\n",
    "        predictions_NB = Naive.predict(Test_X_Tfidf)\n",
    "        # Use accuracy_score function to get the accuracy\n",
    "        print(\"Naive Bayes Accuracy Score -> \",accuracy_score(predictions_NB, Test_Y)*100)\n",
    "        # Making the confusion matrix\n",
    "        from sklearn.metrics import confusion_matrix\n",
    "        cm = confusion_matrix(Test_Y, predictions_NB)\n",
    "        print(\"-----------------cm------------------\")\n",
    "        print(cm)\n",
    "        print(\"-------------------------------------\")\n",
    "        \n",
    "        #[8] Support Vector Machine\n",
    "        \n",
    "        # Classifier - Algorithm - SVM\n",
    "        # fit the training dataset on the classifier\n",
    "        SVM = svm.SVC(C=1.0, kernel='linear', degree=3, gamma='auto')\n",
    "        SVM.fit(X_nm,y_nm)\n",
    "        # predict the labels on validation dataset\n",
    "        predictions_SVM = SVM.predict(Test_X_Tfidf)\n",
    "        # Use accuracy_score function to get the accuracy\n",
    "        print(\"SVM Accuracy Score -> \",accuracy_score(predictions_SVM, Test_Y)*100)"
   ]
  },
  {
   "cell_type": "code",
   "execution_count": null,
   "metadata": {},
   "outputs": [],
   "source": []
  }
 ],
 "metadata": {
  "kernelspec": {
   "display_name": "Python 3",
   "language": "python",
   "name": "python3"
  },
  "language_info": {
   "codemirror_mode": {
    "name": "ipython",
    "version": 3
   },
   "file_extension": ".py",
   "mimetype": "text/x-python",
   "name": "python",
   "nbconvert_exporter": "python",
   "pygments_lexer": "ipython3",
   "version": "3.6.5"
  }
 },
 "nbformat": 4,
 "nbformat_minor": 2
}

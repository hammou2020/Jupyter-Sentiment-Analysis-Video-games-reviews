{
 "cells": [
  {
   "cell_type": "markdown",
   "metadata": {},
   "source": [
    "<h1><center>Sentiment Analysis on Video-Game Reviews from Amazon<br><br>Naive Bayes and Support Vector Machine</center></h1>"
   ]
  },
  {
   "cell_type": "markdown",
   "metadata": {},
   "source": [
    "<div>\n",
    "<img src=\"figures/uom.jpg\" width=\"100\" align=\"center\"/>\n",
    "</div>\n",
    "\n",
    "<h2><p style='text-align: center;'> Panayiotis Kattides </p></h2>\n",
    "\n",
    "<div>\n",
    "<img src=\"figures/sentiment.jpg\" width=\"300\" align=\"center\"/>\n",
    "</div>"
   ]
  },
  {
   "cell_type": "markdown",
   "metadata": {},
   "source": [
    "# Table of Contents\n",
    "\n",
    "## [1. Introduction](introduction.ipynb)\n",
    "\n",
    "## [2. Data exploration](https://nbviewer.jupyter.org/github/panayiotiska/Jupyter-Sentiment-Analysis-Video-games-reviews/blob/master/[Data_Exploration]Data_Lookup.ipynb)\n",
    "- [Dataset lookup](https://nbviewer.jupyter.org/github/panayiotiska/Jupyter-Sentiment-Analysis-Video-games-reviews/blob/master/[Data_Exploration]Data_Lookup.ipynb)\n",
    "- [Visualization of ratings](https://nbviewer.jupyter.org/github/panayiotiska/Jupyter-Sentiment-Analysis-Video-games-reviews/blob/master/[Data_Exploration]Data_Visualization_ratings.ipynb)\n",
    "- [Visualization of reviews](https://nbviewer.jupyter.org/github/panayiotiska/Jupyter-Sentiment-Analysis-Video-games-reviews/blob/master/[Data_Exploration]Data_Visualization_reviews.ipynb)\n",
    "- [Word-clouds](https://nbviewer.jupyter.org/github/panayiotiska/Jupyter-Sentiment-Analysis-Video-games-reviews/blob/master/[Data_Exploration]Word_Clouds.ipynb)\n",
    "\n",
    "## [3. Sentiment Anlysis](https://nbviewer.jupyter.org/github/panayiotiska/Jupyter-Sentiment-Analysis-Video-games-reviews/blob/master/Naive_Bayes_&_SVM_tfidfVectorizer.ipynb)\n",
    "### [3.1 Vectorization](https://nbviewer.jupyter.org/github/panayiotiska/Jupyter-Sentiment-Analysis-Video-games-reviews/blob/master/Naive_Bayes_&_SVM_tfidfVectorizer.ipynb)\n",
    "- [TF-IDF vectorizer](https://nbviewer.jupyter.org/github/panayiotiska/Jupyter-Sentiment-Analysis-Video-games-reviews/blob/master/Naive_Bayes_&_SVM_tfidfVectorizer.ipynb)\n",
    "- [Count Vectorizer](https://nbviewer.jupyter.org/github/panayiotiska/Jupyter-Sentiment-Analysis-Video-games-reviews/blob/master/Naive_Bayes_CountVectorizer.ipynb)\n",
    "- [Hashing Vectorizer](https://nbviewer.jupyter.org/github/panayiotiska/Jupyter-Sentiment-Analysis-Video-games-reviews/blob/master/Naive_Bayes_&_SVM_HashingVectorizer.ipynb)\n",
    "\n",
    "### [3.2 Stemming](https://nbviewer.jupyter.org/github/panayiotiska/Jupyter-Sentiment-Analysis-Video-games-reviews/blob/master/Naive_Bayes_&_SVM_tfidfVectorizer.ipynb)\n",
    "- [Porter Stemmer (SVM - Hashing Vectorizer)](https://nbviewer.jupyter.org/github/panayiotiska/Jupyter-Sentiment-Analysis-Video-games-reviews/blob/master/Naive_Bayes_&_SVM_HashingVectorizer-PorterStemming.ipynb)\n",
    "- [Lancaster Stemmer (SVM - Hashing Vectorizer)](https://nbviewer.jupyter.org/github/panayiotiska/Jupyter-Sentiment-Analysis-Video-games-reviews/blob/master/Naive_Bayes_&_SVM_HashingVectorizer-LancasterStemming.ipynb)\n",
    "- [Snowball Stemmer (SVM - Hashing Vectorizer)](https://nbviewer.jupyter.org/github/panayiotiska/Jupyter-Sentiment-Analysis-Video-games-reviews/blob/master/Naive_Bayes_&_SVM_HashingVectorizer-SnowballStemming.ipynb)\n",
    "\n",
    "\n",
    "- [Porter Stemmer (NB - tfidf Vectorizer)](https://nbviewer.jupyter.org/github/panayiotiska/Jupyter-Sentiment-Analysis-Video-games-reviews/blob/master/Naive_Bayes_tfidfVectorizer-PorterStemmer.ipynb)\n",
    "- [Lancaster Stemmer (NB - tfidf Vectorizer)](https://nbviewer.jupyter.org/github/panayiotiska/Jupyter-Sentiment-Analysis-Video-games-reviews/blob/master/Naive_Bayes_tfidfVectorizer-LancasterStemmer.ipynb)\n",
    "- [Snowball Stemmer (NB - tfidf Vectorizer)](https://nbviewer.jupyter.org/github/panayiotiska/Jupyter-Sentiment-Analysis-Video-games-reviews/blob/master/Naive_Bayes_tfidfVectorizer-SnowballStemmer.ipynb)\n",
    "\n",
    "### [3.3 Balance Classes]()\n",
    "- [Over-Sampling (NB - tfidf Vectorizer)]()\n",
    "- [Under-Sampling (NB - tfidf Vectorizer)]()\n",
    "\n",
    "### [3.4 Objective Analysis](https://nbviewer.jupyter.org/github/panayiotiska/Jupyter-Sentiment-Analysis-Video-games-reviews/blob/master/SVM_HashingVectorizer_Adjectives.ipynb)\n",
    "- [Only Adjectives analysis (SVM - Hashing Vectorizer))](https://nbviewer.jupyter.org/github/panayiotiska/Jupyter-Sentiment-Analysis-Video-games-reviews/blob/master/SVM_HashingVectorizer_Adjectives.ipynb)\n",
    "- [Adjectives and Nouns analysis (SVM - Hashing Vectorizer))](https://nbviewer.jupyter.org/github/panayiotiska/Jupyter-Sentiment-Analysis-Video-games-reviews/blob/master/SVM_HashingVectorizer_Adjectives.ipynb)\n",
    "\n",
    "\n",
    "## [4. Results and Conclusion](Results&Conclusion.ipynb)\n",
    "\n",
    "\n",
    "### [References](References.ipynb)"
   ]
  }
 ],
 "metadata": {
  "anaconda-cloud": {},
  "kernelspec": {
   "display_name": "Python 3",
   "language": "python",
   "name": "python3"
  },
  "language_info": {
   "codemirror_mode": {
    "name": "ipython",
    "version": 3
   },
   "file_extension": ".py",
   "mimetype": "text/x-python",
   "name": "python",
   "nbconvert_exporter": "python",
   "pygments_lexer": "ipython3",
   "version": "3.6.5"
  },
  "latex_envs": {
   "LaTeX_envs_menu_present": true,
   "autoclose": false,
   "autocomplete": true,
   "bibliofile": "biblio.bib",
   "cite_by": "apalike",
   "current_citInitial": 1,
   "eqLabelWithNumbers": true,
   "eqNumInitial": 1,
   "hotkeys": {
    "equation": "Ctrl-E",
    "itemize": "Ctrl-I"
   },
   "labels_anchors": false,
   "latex_user_defs": false,
   "report_style_numbering": false,
   "user_envs_cfg": false
  }
 },
 "nbformat": 4,
 "nbformat_minor": 1
}

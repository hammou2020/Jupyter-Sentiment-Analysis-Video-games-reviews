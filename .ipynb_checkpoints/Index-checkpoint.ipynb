{
 "cells": [
  {
   "cell_type": "markdown",
   "metadata": {},
   "source": [
    "<h1><center>Sentiment Analysis on Video-Game Reviews from Amazon</center></h1>"
   ]
  },
  {
   "cell_type": "markdown",
   "metadata": {},
   "source": [
    "<div>\n",
    "<img src=\"figures/uom.jpg\" width=\"100\" align=\"center\"/>\n",
    "</div>\n",
    "\n",
    "<h2><p style='text-align: center;'> Panayiotis Kattides </p></h2>\n",
    "\n",
    "<div>\n",
    "<img src=\"figures/sentiment.jpg\" width=\"500\"/>\n",
    "</div>"
   ]
  },
  {
   "cell_type": "markdown",
   "metadata": {},
   "source": [
    "The dataset used contains product reviews and metadata from Amazon, including 142.8 million reviews spanning May 1996 - July 2014.\n",
    "This dataset includes reviews (ratings, text, helpfulness votes), product metadata (descriptions, category information, price, brand, and image features), and links (also viewed/also bought graphs).\n",
    "\n",
    "http://jmcauley.ucsd.edu/data/amazon\n"
   ]
  },
  {
   "cell_type": "markdown",
   "metadata": {},
   "source": [
    "# Table of Contents\n",
    "\n",
    "## [Preface](00.00-Preface.ipynb)\n",
    "\n",
    "## [1. Data exploration](Sentiment_Analysis_Video_Games_Reviews.ipynb)\n",
    "- [Exploring the Dataset](https://nbviewer.jupyter.org/github/panayiotiska/Jupyter-Sentiment-Analysis-Video-games-reviews/blob/master/Data-Exploration.ipynb)\n",
    "- [Graphs](https://nbviewer.jupyter.org/github/panayiotiska/Jupyter-Sentiment-Analysis-Video-games-reviews/blob/master/Data-Exploration.ipynb)\n",
    "- [Word-clouds](https://nbviewer.jupyter.org/github/panayiotiska/Jupyter-Sentiment-Analysis-Video-games-reviews/blob/master/Data-Exploration.ipynb)\n",
    "\n",
    "## [2. Sentiment Anlysis with Naive Bayes and SVM](02.00-Introduction-to-NumPy.ipynb)\n",
    "### [2.1 Vectorization](Vectorization.ipynb)\n",
    "- [TF-IDF vectorizer (using stemming)](Naive_Bayes_&_SVM_stemming_tfidf.ipynb)\n",
    "- [Count Vectorizer (using stemming)](Naive_Bayes_&_SVM_stemming_CountVectorizer.ipynb)\n",
    "- [Hashing Vectorizer (using stemming)](Naive_Bayes_&_SVM_stemming_HashingVectorizer.ipynb)\n",
    "- [Comparing vectorization methods](Comparing_Vectorization_Methods.ipynb)\n",
    "\n",
    "\n",
    "\n",
    "### [Appendix: Figure Code](06.00-Figure-Code.ipynb)"
   ]
  },
  {
   "cell_type": "code",
   "execution_count": null,
   "metadata": {},
   "outputs": [],
   "source": [
    "# # - [Slangs](Sentiment_Analysis_Video_Games_Reviews.ipynb)\n",
    "# - [Sarcasm detection](Sentiment_Analysis_Video_Games_Reviews.ipynb)\n",
    "# - [Unbalanced classes](Sentiment_Analysis_Video_Games_Reviews.ipynb)\n",
    "# - [Zipf's law](Sentiment_Analysis_Video_Games_Reviews.ipynb)\n",
    "\n",
    "# ### [3. Data Manipulation with Pandas](03.00-Introduction-to-Pandas.ipynb)\n",
    "# - [Introducing Pandas Objects](03.01-Introducing-Pandas-Objects.ipynb)\n",
    "# - [Data Indexing and Selection](03.02-Data-Indexing-and-Selection.ipynb)\n",
    "# - [Operating on Data in Pandas](03.03-Operations-in-Pandas.ipynb)\n",
    "# - [Handling Missing Data](03.04-Missing-Values.ipynb)\n",
    "# - [Hierarchical Indexing](03.05-Hierarchical-Indexing.ipynb)\n",
    "# - [Combining Datasets: Concat and Append](03.06-Concat-And-Append.ipynb)\n",
    "# - [Combining Datasets: Merge and Join](03.07-Merge-and-Join.ipynb)\n",
    "# - [Aggregation and Grouping](03.08-Aggregation-and-Grouping.ipynb)\n",
    "# - [Pivot Tables](03.09-Pivot-Tables.ipynb)\n",
    "# - [Vectorized String Operations](03.10-Working-With-Strings.ipynb)\n",
    "# - [Working with Time Series](03.11-Working-with-Time-Series.ipynb)\n",
    "# - [High-Performance Pandas: eval() and query()](03.12-Performance-Eval-and-Query.ipynb)\n",
    "# - [Further Resources](03.13-Further-Resources.ipynb)\n",
    "\n",
    "# ### [4. Visualization with Matplotlib](04.00-Introduction-To-Matplotlib.ipynb)\n",
    "# - [Simple Line Plots](04.01-Simple-Line-Plots.ipynb)\n",
    "# - [Simple Scatter Plots](04.02-Simple-Scatter-Plots.ipynb)\n",
    "# - [Visualizing Errors](04.03-Errorbars.ipynb)\n",
    "# - [Density and Contour Plots](04.04-Density-and-Contour-Plots.ipynb)\n",
    "# - [Histograms, Binnings, and Density](04.05-Histograms-and-Binnings.ipynb)\n",
    "# - [Customizing Plot Legends](04.06-Customizing-Legends.ipynb)\n",
    "# - [Customizing Colorbars](04.07-Customizing-Colorbars.ipynb)\n",
    "# - [Multiple Subplots](04.08-Multiple-Subplots.ipynb)\n",
    "# - [Text and Annotation](04.09-Text-and-Annotation.ipynb)\n",
    "# - [Customizing Ticks](04.10-Customizing-Ticks.ipynb)\n",
    "# - [Customizing Matplotlib: Configurations and Stylesheets](04.11-Settings-and-Stylesheets.ipynb)\n",
    "# - [Three-Dimensional Plotting in Matplotlib](04.12-Three-Dimensional-Plotting.ipynb)\n",
    "# - [Geographic Data with Basemap](04.13-Geographic-Data-With-Basemap.ipynb)\n",
    "# - [Visualization with Seaborn](04.14-Visualization-With-Seaborn.ipynb)\n",
    "# - [Further Resources](04.15-Further-Resources.ipynb)\n",
    "\n",
    "# ### [5. Machine Learning](05.00-Machine-Learning.ipynb)\n",
    "# - [What Is Machine Learning?](05.01-What-Is-Machine-Learning.ipynb)\n",
    "# - [Introducing Scikit-Learn](05.02-Introducing-Scikit-Learn.ipynb)\n",
    "# - [Hyperparameters and Model Validation](05.03-Hyperparameters-and-Model-Validation.ipynb)\n",
    "# - [Feature Engineering](05.04-Feature-Engineering.ipynb)\n",
    "# - [In Depth: Naive Bayes Classification](05.05-Naive-Bayes.ipynb)\n",
    "# - [In Depth: Linear Regression](05.06-Linear-Regression.ipynb)\n",
    "# - [In-Depth: Support Vector Machines](05.07-Support-Vector-Machines.ipynb)\n",
    "# - [In-Depth: Decision Trees and Random Forests](05.08-Random-Forests.ipynb)\n",
    "# - [In Depth: Principal Component Analysis](05.09-Principal-Component-Analysis.ipynb)\n",
    "# - [In-Depth: Manifold Learning](05.10-Manifold-Learning.ipynb)\n",
    "# - [In Depth: k-Means Clustering](05.11-K-Means.ipynb)\n",
    "# - [In Depth: Gaussian Mixture Models](05.12-Gaussian-Mixtures.ipynb)\n",
    "# - [In-Depth: Kernel Density Estimation](05.13-Kernel-Density-Estimation.ipynb)\n",
    "# - [Application: A Face Detection Pipeline](05.14-Image-Features.ipynb)\n",
    "# - [Further Machine Learning Resources](05.15-Learning-More.ipynb)"
   ]
  }
 ],
 "metadata": {
  "anaconda-cloud": {},
  "kernelspec": {
   "display_name": "Python 3",
   "language": "python",
   "name": "python3"
  },
  "language_info": {
   "codemirror_mode": {
    "name": "ipython",
    "version": 3
   },
   "file_extension": ".py",
   "mimetype": "text/x-python",
   "name": "python",
   "nbconvert_exporter": "python",
   "pygments_lexer": "ipython3",
   "version": "3.6.5"
  }
 },
 "nbformat": 4,
 "nbformat_minor": 1
}

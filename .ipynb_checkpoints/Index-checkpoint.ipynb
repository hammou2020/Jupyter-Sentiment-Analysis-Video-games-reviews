{
 "cells": [
  {
   "cell_type": "markdown",
   "metadata": {},
   "source": [
    "<h1><center>Sentiment Analysis on Video-Game Reviews from Amazon</center></h1>"
   ]
  },
  {
   "cell_type": "markdown",
   "metadata": {},
   "source": [
    "<div>\n",
    "<img src=\"figures/uom.jpg\" width=\"100\" align=\"center\"/>\n",
    "</div>\n",
    "\n",
    "<h2><p style='text-align: center;'> Panayiotis Kattides </p></h2>\n",
    "\n",
    "<div>\n",
    "<img src=\"figures/sentiment.jpg\" />\n",
    "</div>"
   ]
  },
  {
   "cell_type": "markdown",
   "metadata": {},
   "source": [
    "# Table of Contents\n",
    "\n",
    "## [0. Introduction](introduction.ipynb)\n",
    "\n",
    "## [1. Data exploration](Sentiment_Analysis_Video_Games_Reviews.ipynb)\n",
    "- [Dataset lookup](https://nbviewer.jupyter.org/github/panayiotiska/Jupyter-Sentiment-Analysis-Video-games-reviews/blob/master/[Data_Exploration]Data_Lookup.ipynb)\n",
    "- [Visualization of ratings](https://nbviewer.jupyter.org/github/panayiotiska/Jupyter-Sentiment-Analysis-Video-games-reviews/blob/master/[Data_Exploration]Data_Visualization_ratings.ipynb)\n",
    "- [Visualization of reviews](https://nbviewer.jupyter.org/github/panayiotiska/Jupyter-Sentiment-Analysis-Video-games-reviews/blob/master/[Data_Exploration]Data_Visualization_reviews.ipynb)\n",
    "- [Word-clouds](https://nbviewer.jupyter.org/github/panayiotiska/Jupyter-Sentiment-Analysis-Video-games-reviews/blob/master/[Data_Exploration]Word_Clouds.ipynb)\n",
    "\n",
    "## [2. Sentiment Anlysis with Naive Bayes and SVM](02.00-Introduction-to-NumPy.ipynb)\n",
    "### [2.1 Vectorization](Vectorization.ipynb)\n",
    "- [TF-IDF vectorizer (using stemming)](Naive_Bayes_&_SVM_stemming_tfidf.ipynb)\n",
    "- [Count Vectorizer (using stemming)](Naive_Bayes_&_SVM_stemming_CountVectorizer.ipynb)\n",
    "- [Hashing Vectorizer (using stemming)](Naive_Bayes_&_SVM_stemming_HashingVectorizer.ipynb)\n",
    "- [Comparing vectorization methods](Comparing_Vectorization_Methods.ipynb)\n",
    "\n",
    "\n",
    "\n",
    "### [References](References.ipynb)"
   ]
  },
  {
   "cell_type": "code",
   "execution_count": null,
   "metadata": {},
   "outputs": [],
   "source": [
    "# # - [Slangs](Sentiment_Analysis_Video_Games_Reviews.ipynb)\n",
    "# - [Sarcasm detection](Sentiment_Analysis_Video_Games_Reviews.ipynb)\n",
    "# - [Unbalanced classes](Sentiment_Analysis_Video_Games_Reviews.ipynb)\n",
    "# - [Zipf's law](Sentiment_Analysis_Video_Games_Reviews.ipynb)"
   ]
  }
 ],
 "metadata": {
  "anaconda-cloud": {},
  "kernelspec": {
   "display_name": "Python 3",
   "language": "python",
   "name": "python3"
  },
  "language_info": {
   "codemirror_mode": {
    "name": "ipython",
    "version": 3
   },
   "file_extension": ".py",
   "mimetype": "text/x-python",
   "name": "python",
   "nbconvert_exporter": "python",
   "pygments_lexer": "ipython3",
   "version": "3.6.5"
  }
 },
 "nbformat": 4,
 "nbformat_minor": 1
}

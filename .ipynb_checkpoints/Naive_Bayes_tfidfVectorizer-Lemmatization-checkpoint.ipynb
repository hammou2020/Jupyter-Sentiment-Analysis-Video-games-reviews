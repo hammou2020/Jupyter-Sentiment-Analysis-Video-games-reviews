{
 "cells": [
  {
   "cell_type": "code",
   "execution_count": 15,
   "metadata": {},
   "outputs": [],
   "source": [
    "import numpy as np\n",
    "import matplotlib.pyplot as plt\n",
    "import pandas as pd\n",
    "from nltk.tokenize import word_tokenize\n",
    "from nltk import pos_tag\n",
    "from nltk.corpus import stopwords\n",
    "from nltk.stem import WordNetLemmatizer\n",
    "from sklearn.preprocessing import LabelEncoder\n",
    "from collections import defaultdict\n",
    "from nltk.corpus import wordnet as wn\n",
    "from sklearn.feature_extraction.text import TfidfVectorizer\n",
    "from sklearn import model_selection, naive_bayes, svm\n",
    "from sklearn.metrics import accuracy_score\n",
    "from collections import Counter\n",
    "\n",
    "#[1] Importing dataset\n",
    "\n",
    "dataset = pd.read_json(r\"C:\\Users\\Panos\\Desktop\\Dissert\\Code\\Sample_Video_Games_5.json\", lines=True, encoding='latin-1')\n",
    "dataset = dataset[['reviewText','overall']]\n",
    "\n",
    "#[2] Reduce number of classes\n",
    "\n",
    "ratings = []\n",
    "for index,entry in enumerate(dataset['overall']):\n",
    "    if entry == 1.0 or entry == 2.0:\n",
    "        ratings.append(-1)\n",
    "    elif entry == 3.0:\n",
    "        ratings.append(0)\n",
    "    elif entry == 4.0 or entry == 5.0:\n",
    "        ratings.append(1)"
   ]
  },
  {
   "cell_type": "code",
   "execution_count": 16,
   "metadata": {},
   "outputs": [
    {
     "name": "stdout",
     "output_type": "stream",
     "text": [
      "0     ['instal', 'game', 'struggle', 'game', 'window...\n",
      "1     ['like', 'rally', 'car', 'get', 'game', 'orien...\n",
      "2     ['shipment', 'receive', 'book', 'instead', 'sh...\n",
      "3     ['get', 'version', 'instead', 'version', 'turn...\n",
      "4     ['dirt', 'xbox', 'okay', 'game', 'start', 'pla...\n",
      "                            ...                        \n",
      "95    ['sit', 'back', 'far', 'enough', 'see', 'entir...\n",
      "96    ['great', 'wii', 'use', 'gamecube', 'controlle...\n",
      "97    ['play', 'brawl', 'melee', 'time', 'sibling', ...\n",
      "98    ['buy', 'extend', 'length', 'game', 'cube', 'c...\n",
      "99    ['work', 'exactly', 'advertise', 'buy', 'along...\n",
      "Name: text_final, Length: 100, dtype: object\n",
      "0     [installing, the, game, was, a, struggle, (, b...\n",
      "1     [if, you, like, rally, cars, get, this, game, ...\n",
      "2     [1st, shipment, received, a, book, instead, of...\n",
      "3     [i, got, this, version, instead, of, the, ps3,...\n",
      "4     [i, had, dirt, 2, on, xbox, 360, and, it, was,...\n",
      "                            ...                        \n",
      "95    [and, now, i, can, sit, back, far, enough, to,...\n",
      "96    [these, are, great, ., if, you, have, a, wii, ...\n",
      "97    [i, play, brawl, and, melee, all, the, time, w...\n",
      "98    [i, bought, these, to, extend, the, length, of...\n",
      "99    [works, exactly, as, advertised, ., bought, th...\n",
      "Name: reviewText, Length: 100, dtype: object\n"
     ]
    }
   ],
   "source": [
    "#[3] Cleaning the text & lemmatization\n",
    "        \n",
    "# Step - a : Remove blank rows if any.\n",
    "dataset['reviewText'].dropna(inplace=True)\n",
    "# Step - b : Change all the text to lower case. This is required as python interprets 'dog' and 'DOG' differently\n",
    "dataset['reviewText'] = [entry.lower() for entry in dataset['reviewText']]\n",
    "# Step - c : Tokenization : In this each entry in the corpus will be broken into set of words\n",
    "dataset['reviewText'] = [word_tokenize(entry) for entry in dataset['reviewText']]\n",
    "# Step - d : Remove Stop words, Non-Numeric and perfom Word Stemming/Lemmenting.\n",
    "# WordNetLemmatizer requires Pos tags to understand if the word is noun or verb or adjective etc. By default it is set to Noun\n",
    "tag_map = defaultdict(lambda : wn.NOUN)\n",
    "tag_map['J'] = wn.ADJ\n",
    "tag_map['V'] = wn.VERB\n",
    "tag_map['R'] = wn.ADV\n",
    "for index,entry in enumerate(dataset['reviewText']):\n",
    "    # Declaring Empty List to store the words that follow the rules for this step\n",
    "    Final_words = []\n",
    "    # Initializing WordNetLemmatizer()\n",
    "    word_Lemmatized = WordNetLemmatizer()\n",
    "    # pos_tag function below will provide the 'tag' i.e if the word is Noun(N) or Verb(V) or something else.\n",
    "    for word, tag in pos_tag(entry):\n",
    "        # Below condition is to check for Stop words and consider only alphabets\n",
    "        if word not in stopwords.words('english') and word.isalpha():\n",
    "            word_Final = word_Lemmatized.lemmatize(word,tag_map[tag[0]])\n",
    "            Final_words.append(word_Final)\n",
    "        # The final processed set of words for each iteration will be stored in 'text_final'\n",
    "        dataset.loc[index,'text_final'] = str(Final_words)"
   ]
  },
  {
   "cell_type": "code",
   "execution_count": 17,
   "metadata": {},
   "outputs": [
    {
     "name": "stdout",
     "output_type": "stream",
     "text": [
      "dict_values([48, 7, 15])\n"
     ]
    }
   ],
   "source": [
    "#[4] Prepare Train and Test Data sets\n",
    "            \n",
    "Train_X, Test_X, Train_Y, Test_Y = model_selection.train_test_split(dataset['text_final'],ratings,test_size=0.3)\n",
    "\n",
    "print(Counter(Train_Y).values()) # counts the elements' frequency"
   ]
  },
  {
   "cell_type": "code",
   "execution_count": 18,
   "metadata": {},
   "outputs": [],
   "source": [
    "#[5] Encoding\n",
    "\n",
    "Encoder = LabelEncoder()\n",
    "Train_Y = Encoder.fit_transform(Train_Y)\n",
    "Test_Y = Encoder.fit_transform(Test_Y)"
   ]
  },
  {
   "cell_type": "code",
   "execution_count": 19,
   "metadata": {},
   "outputs": [],
   "source": [
    "#[6] Word Vectorization\n",
    "        \n",
    "Tfidf_vect = TfidfVectorizer(max_features=10000)\n",
    "Tfidf_vect.fit(dataset['text_final'])\n",
    "Train_X_Tfidf = Tfidf_vect.transform(Train_X)\n",
    "Test_X_Tfidf = Tfidf_vect.transform(Test_X)\n",
    "\n",
    "#the vocabulary that it has learned from the corpus\n",
    "#print(Tfidf_vect.vocabulary_)\n",
    "\n",
    "# the vectorized data\n",
    "#print(Train_X_Tfidf)"
   ]
  },
  {
   "cell_type": "code",
   "execution_count": 20,
   "metadata": {},
   "outputs": [
    {
     "name": "stdout",
     "output_type": "stream",
     "text": [
      "-----------------------Naive Bayes------------------------\n",
      "\n",
      "Naive Bayes Accuracy Score ->  73.33333333333333\n",
      "\n",
      " [[ 0  0  5]\n",
      " [ 0  0  3]\n",
      " [ 0  0 22]] \n",
      "\n",
      "              precision    recall  f1-score   support\n",
      "\n",
      "    Positive       0.00      0.00      0.00         5\n",
      "     Neutral       0.00      0.00      0.00         3\n",
      "    Negative       0.73      1.00      0.85        22\n",
      "\n",
      "    accuracy                           0.73        30\n",
      "   macro avg       0.24      0.33      0.28        30\n",
      "weighted avg       0.54      0.73      0.62        30\n",
      "\n"
     ]
    },
    {
     "name": "stderr",
     "output_type": "stream",
     "text": [
      "C:\\ProgramData\\Anaconda3\\lib\\site-packages\\sklearn\\metrics\\_classification.py:1272: UndefinedMetricWarning: Precision and F-score are ill-defined and being set to 0.0 in labels with no predicted samples. Use `zero_division` parameter to control this behavior.\n",
      "  _warn_prf(average, modifier, msg_start, len(result))\n"
     ]
    }
   ],
   "source": [
    "#[7] Use the Naive Bayes Algorithms to Predict the outcome\n",
    "\n",
    "# fit the training dataset on the NB classifier\n",
    "Naive = naive_bayes.MultinomialNB()\n",
    "Naive.fit(Train_X_Tfidf,Train_Y)\n",
    "# predict the labels on validation dataset\n",
    "predictions_NB = Naive.predict(Test_X_Tfidf)\n",
    "\n",
    "# Use accuracy_score function to get the accuracy\n",
    "print(\"-----------------------Naive Bayes------------------------\\n\")\n",
    "print(\"Naive Bayes Accuracy Score -> \",accuracy_score(predictions_NB, Test_Y)*100)\n",
    "# Making the confusion matrix\n",
    "from sklearn.metrics import confusion_matrix\n",
    "cm = confusion_matrix(Test_Y, predictions_NB)\n",
    "print(\"\\n\",cm,\"\\n\")\n",
    "# Printing a classification report of different metrics\n",
    "from sklearn.metrics import classification_report\n",
    "my_tags = ['Positive','Neutral','Negative']\n",
    "print(classification_report(Test_Y, predictions_NB,target_names=my_tags,zero_division = 0))\n",
    "\n",
    "# Export reports to files for later visualizations\n",
    "report_NB = classification_report(Test_Y, predictions_NB,target_names=my_tags, output_dict=True)\n",
    "report_NB_df = pd.DataFrame(report_NB).transpose()\n",
    "report_NB_df.to_csv(r'NB_report_TFIDFVect_Lemmatization.csv', index = True, float_format=\"%.3f\")"
   ]
  }
 ],
 "metadata": {
  "kernelspec": {
   "display_name": "Python 3",
   "language": "python",
   "name": "python3"
  },
  "language_info": {
   "codemirror_mode": {
    "name": "ipython",
    "version": 3
   },
   "file_extension": ".py",
   "mimetype": "text/x-python",
   "name": "python",
   "nbconvert_exporter": "python",
   "pygments_lexer": "ipython3",
   "version": "3.6.5"
  },
  "latex_envs": {
   "LaTeX_envs_menu_present": true,
   "autoclose": false,
   "autocomplete": true,
   "bibliofile": "biblio.bib",
   "cite_by": "apalike",
   "current_citInitial": 1,
   "eqLabelWithNumbers": true,
   "eqNumInitial": 1,
   "hotkeys": {
    "equation": "Ctrl-E",
    "itemize": "Ctrl-I"
   },
   "labels_anchors": false,
   "latex_user_defs": false,
   "report_style_numbering": false,
   "user_envs_cfg": false
  }
 },
 "nbformat": 4,
 "nbformat_minor": 2
}

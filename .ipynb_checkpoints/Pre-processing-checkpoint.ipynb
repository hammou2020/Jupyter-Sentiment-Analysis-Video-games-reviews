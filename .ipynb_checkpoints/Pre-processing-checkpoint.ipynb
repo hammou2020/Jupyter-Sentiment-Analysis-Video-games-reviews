{
 "cells": [
  {
   "cell_type": "markdown",
   "metadata": {},
   "source": [
    "## Pre-processing"
   ]
  },
  {
   "cell_type": "code",
   "execution_count": 1,
   "metadata": {},
   "outputs": [
    {
     "name": "stdout",
     "output_type": "stream",
     "text": [
      "<class 'pandas.core.frame.DataFrame'>\n",
      "RangeIndex: 100 entries, 0 to 99\n",
      "Data columns (total 2 columns):\n",
      "reviewText    100 non-null object\n",
      "overall       100 non-null int64\n",
      "dtypes: int64(1), object(1)\n",
      "memory usage: 1.7+ KB\n",
      "5    53\n",
      "4    17\n",
      "1    15\n",
      "3    10\n",
      "2     5\n",
      "Name: overall, dtype: int64\n",
      "                                          reviewText  overall  overall_final  \\\n",
      "0  [installing, the, game, was, a, struggle, (, b...        1           -1.0   \n",
      "1  [if, you, like, rally, cars, get, this, game, ...        4            1.0   \n",
      "2  [1st, shipment, received, a, book, instead, of...        1           -1.0   \n",
      "\n",
      "                                          text_final  \n",
      "0  ['instal', 'game', 'struggle', 'game', 'window...  \n",
      "1  ['like', 'rally', 'car', 'get', 'game', 'orien...  \n",
      "2  ['shipment', 'receive', 'book', 'instead', 'sh...  \n",
      "hey yo\n"
     ]
    }
   ],
   "source": [
    "#https://medium.com/@bedigunjit/simple-guide-to-text-classification-nlp-using-svm-and-naive-bayes-with-python-421db3a72d34\n",
    "\n",
    "import pandas as pd\n",
    "import numpy as np\n",
    "from nltk.tokenize import word_tokenize\n",
    "from nltk import pos_tag\n",
    "from nltk.corpus import stopwords\n",
    "from nltk.stem import WordNetLemmatizer\n",
    "from sklearn.preprocessing import LabelEncoder\n",
    "from collections import defaultdict\n",
    "from nltk.corpus import wordnet as wn\n",
    "from sklearn.feature_extraction.text import TfidfVectorizer\n",
    "from sklearn import model_selection, naive_bayes, svm\n",
    "from sklearn.metrics import accuracy_score\n",
    "from collections import Counter\n",
    "\n",
    "#import dill\n",
    "\n",
    "if __name__ == \"__main__\":\n",
    "    \n",
    "        # Reproduce the same result every time if the script is kept consistent otherwise each run will produce different results\n",
    "        np.random.seed(500)\n",
    "    \n",
    "        #[1] Read the data\n",
    "        Corpus = pd.read_json(r\"C:\\Users\\Panos\\Desktop\\Dissert\\Code\\Sample_Video_Games_5.json\", lines=True, encoding='latin-1')\n",
    "        Corpus = Corpus[['reviewText','overall']]\n",
    "        \n",
    "        # Print some info\n",
    "        Corpus.info()\n",
    "        print(Corpus.overall.value_counts())\n",
    "        \n",
    "        #[1.5] Reduce number of classes\n",
    "        for index,entry in enumerate(Corpus['overall']):\n",
    "             if entry == 1.0 or entry == 2.0:\n",
    "                 Corpus.loc[index,'overall_final'] = -1\n",
    "             elif entry == 3.0:\n",
    "                 Corpus.loc[index,'overall_final'] = 0\n",
    "             elif entry == 4.0 or entry == 5.0:\n",
    "                 Corpus.loc[index,'overall_final'] = 1\n",
    "                \n",
    "        #[2] Preprocessing\n",
    "        \n",
    "        # Step - a : Remove blank rows if any.\n",
    "        Corpus['reviewText'].dropna(inplace=True)\n",
    "        # Step - b : Change all the text to lower case. This is required as python interprets 'dog' and 'DOG' differently\n",
    "        Corpus['reviewText'] = [entry.lower() for entry in Corpus['reviewText']]\n",
    "        # Step - c : Tokenization : In this each entry in the corpus will be broken into set of words\n",
    "        Corpus['reviewText'] = [word_tokenize(entry) for entry in Corpus['reviewText']]\n",
    "        # Step - d : Remove Stop words, Non-Numeric and perfom Word Stemming/Lemmenting.\n",
    "        # WordNetLemmatizer requires Pos tags to understand if the word is noun or verb or adjective etc. By default it is set to Noun\n",
    "        tag_map = defaultdict(lambda : wn.NOUN)\n",
    "        tag_map['J'] = wn.ADJ\n",
    "        tag_map['V'] = wn.VERB\n",
    "        tag_map['R'] = wn.ADV\n",
    "        for index,entry in enumerate(Corpus['reviewText']):\n",
    "            # Declaring Empty List to store the words that follow the rules for this step\n",
    "            Final_words = []\n",
    "            # Initializing WordNetLemmatizer()\n",
    "            word_Lemmatized = WordNetLemmatizer()\n",
    "            # pos_tag function below will provide the 'tag' i.e if the word is Noun(N) or Verb(V) or something else.\n",
    "            for word, tag in pos_tag(entry):\n",
    "                # Below condition is to check for Stop words and consider only alphabets\n",
    "                if word not in stopwords.words('english') and word.isalpha():\n",
    "                    word_Final = word_Lemmatized.lemmatize(word,tag_map[tag[0]])\n",
    "                    Final_words.append(word_Final)\n",
    "            # The final processed set of words for each iteration will be stored in 'text_final'\n",
    "            Corpus.loc[index,'text_final'] = str(Final_words)\n",
    "            \n",
    "        #Print the first 3 rows\n",
    "        print(Corpus.iloc[:3])\n",
    "        print(\"hey yo\")\n",
    "        \n",
    "        #dill.dump_session('notebook_env.db')"
   ]
  },
  {
   "cell_type": "code",
   "execution_count": 4,
   "metadata": {},
   "outputs": [
    {
     "name": "stdout",
     "output_type": "stream",
     "text": [
      "dict_values([48, 5, 17])\n"
     ]
    }
   ],
   "source": [
    "        #[3] Prepare Train and Test Data sets\n",
    "            \n",
    "        Train_X, Test_X, Train_Y, Test_Y = model_selection.train_test_split(Corpus['text_final'],Corpus['overall_final'],test_size=0.3)\n",
    "        \n",
    "        print(Counter(Train_Y).values()) # counts the elements' frequency\n",
    "        \n",
    "        #[4] Encoding\n",
    "        \n",
    "        Encoder = LabelEncoder()\n",
    "        Train_Y = Encoder.fit_transform(Train_Y)\n",
    "        Test_Y = Encoder.fit_transform(Test_Y)\n",
    "        \n",
    "        #[5] Word Vectorization\n",
    "        \n",
    "        Tfidf_vect = TfidfVectorizer(max_features=10000)\n",
    "        Test_X_Tfidf = Tfidf_vect.fit_transform(Corpus['text_final'])\n",
    "        Train_X_Tfidf = Tfidf_vect.transform(Train_X)\n",
    "        Test_X_Tfidf = Tfidf_vect.transform(Test_X)"
   ]
  },
  {
   "cell_type": "code",
   "execution_count": 5,
   "metadata": {},
   "outputs": [
    {
     "name": "stdout",
     "output_type": "stream",
     "text": [
      "dict_values([5, 5, 5])\n"
     ]
    }
   ],
   "source": [
    "        #[6] SMOTE (Synthetic Minority Over-Sampling Technique)\n",
    "        from imblearn.under_sampling import NearMiss, RandomUnderSampler\n",
    "        \n",
    "        nm = NearMiss(ratio='not minority',random_state=777, version=1, n_neighbors=1)\n",
    "        X_nm, y_nm = nm.fit_sample(Train_X_Tfidf, Train_Y)\n",
    "        \n",
    "        print(Counter(y_nm).values()) # counts the elements' frequency"
   ]
  },
  {
   "cell_type": "code",
   "execution_count": null,
   "metadata": {},
   "outputs": [],
   "source": [
    "        the vocabulary that it has learned from the corpus\n",
    "        print(Tfidf_vect.vocabulary_)\n",
    "        \n",
    "        the vectorized data\n",
    "        print(Train_X_Tfidf)"
   ]
  },
  {
   "cell_type": "code",
   "execution_count": 6,
   "metadata": {},
   "outputs": [
    {
     "name": "stdout",
     "output_type": "stream",
     "text": [
      "Naive Bayes Accuracy Score ->  46.666666666666664\n",
      "-----------------cm------------------\n",
      "[[3 0 0]\n",
      " [1 2 2]\n",
      " [7 6 9]]\n",
      "-------------------------------------\n",
      "SVM Accuracy Score ->  36.666666666666664\n"
     ]
    }
   ],
   "source": [
    "        #[7] Use the ML Algorithms to Predict the outcome\n",
    "        \n",
    "        # fit the training dataset on the NB classifier\n",
    "        Naive = naive_bayes.MultinomialNB()\n",
    "        Naive.fit(X_nm,y_nm)\n",
    "        # predict the labels on validation dataset\n",
    "        predictions_NB = Naive.predict(Test_X_Tfidf)\n",
    "        # Use accuracy_score function to get the accuracy\n",
    "        print(\"Naive Bayes Accuracy Score -> \",accuracy_score(predictions_NB, Test_Y)*100)\n",
    "        # Making the confusion matrix\n",
    "        from sklearn.metrics import confusion_matrix\n",
    "        cm = confusion_matrix(Test_Y, predictions_NB)\n",
    "        print(\"-----------------cm------------------\")\n",
    "        print(cm)\n",
    "        print(\"-------------------------------------\")\n",
    "        \n",
    "        #[8] Support Vector Machine\n",
    "        \n",
    "        # Classifier - Algorithm - SVM\n",
    "        # fit the training dataset on the classifier\n",
    "        SVM = svm.SVC(C=1.0, kernel='linear', degree=3, gamma='auto')\n",
    "        SVM.fit(X_nm,y_nm)\n",
    "        # predict the labels on validation dataset\n",
    "        predictions_SVM = SVM.predict(Test_X_Tfidf)\n",
    "        # Use accuracy_score function to get the accuracy\n",
    "        print(\"SVM Accuracy Score -> \",accuracy_score(predictions_SVM, Test_Y)*100)"
   ]
  },
  {
   "cell_type": "code",
   "execution_count": 6,
   "metadata": {},
   "outputs": [
    {
     "ename": "SyntaxError",
     "evalue": "invalid syntax (<ipython-input-6-42206eafcea6>, line 42)",
     "output_type": "error",
     "traceback": [
      "\u001b[1;36m  File \u001b[1;32m\"<ipython-input-6-42206eafcea6>\"\u001b[1;36m, line \u001b[1;32m42\u001b[0m\n\u001b[1;33m    Corpus['reviewText'].dropna(inplace=True)\u001b[0m\n\u001b[1;37m         ^\u001b[0m\n\u001b[1;31mSyntaxError\u001b[0m\u001b[1;31m:\u001b[0m invalid syntax\n"
     ]
    }
   ],
   "source": [
    "#A try to parallelize the for loop\n",
    "# #https://medium.com/@bedigunjit/simple-guide-to-text-classification-nlp-using-svm-and-naive-bayes-with-python-421db3a72d34\n",
    "\n",
    "# import pandas as pd\n",
    "# import numpy as np\n",
    "# from nltk.tokenize import word_tokenize\n",
    "# from nltk import pos_tag\n",
    "# from nltk.corpus import stopwords\n",
    "# from nltk.stem import WordNetLemmatizer\n",
    "# from sklearn.preprocessing import LabelEncoder\n",
    "# from collections import defaultdict\n",
    "# from nltk.corpus import wordnet as wn\n",
    "# from sklearn.feature_extraction.text import TfidfVectorizer\n",
    "# from sklearn import model_selection, naive_bayes, svm\n",
    "# from sklearn.metrics import accuracy_score\n",
    "# from collections import Counter\n",
    "\n",
    "# import multiprocessing\n",
    "# from joblib import Parallel, delayed\n",
    "\n",
    "# if __name__ == \"__main__\":\n",
    "    \n",
    "#         # Reproduce the same result every time if the script is kept consistent otherwise each run will produce different results\n",
    "#         np.random.seed(500)\n",
    "    \n",
    "#         #[1] Read the data\n",
    "#         Corpus = pd.read_json(r\"C:\\Users\\Panos\\Desktop\\Dissert\\Code\\Sample_Video_Games_5.json\", lines=True, encoding='latin-1')\n",
    "#         Corpus = Corpus[['reviewText','overall']]\n",
    "        \n",
    "#         # Print some info\n",
    "#         Corpus.info()\n",
    "#         print(Corpus.overall.value_counts())\n",
    "        \n",
    "#         #https://medium.com/@mjschillawski/quick-and-easy-parallelization-in-python-32cb9027e490\n",
    "#         num_cores = multiprocessing.cpu_count()\n",
    "        \n",
    "#         processed_list = Parallel(n_jobs=num_cores)(delayed(my_function(i,parameters) \n",
    "#                                                         for i in enumerate(Corpus['overall'])\n",
    "                \n",
    "#         #[2] Preprocessing\n",
    "        \n",
    "#         # Step - a : Remove blank rows if any.\n",
    "#         Corpus['reviewText'].dropna(inplace=True)\n",
    "#         # Step - b : Change all the text to lower case. This is required as python interprets 'dog' and 'DOG' differently\n",
    "#         Corpus['reviewText'] = [entry.lower() for entry in Corpus['reviewText']]\n",
    "#         # Step - c : Tokenization : In this each entry in the corpus will be broken into set of words\n",
    "#         Corpus['reviewText'] = [word_tokenize(entry) for entry in Corpus['reviewText']]\n",
    "#         # Step - d : Remove Stop words, Non-Numeric and perfom Word Stemming/Lemmenting.\n",
    "#         # WordNetLemmatizer requires Pos tags to understand if the word is noun or verb or adjective etc. By default it is set to Noun\n",
    "#         tag_map = defaultdict(lambda : wn.NOUN)\n",
    "#         tag_map['J'] = wn.ADJ\n",
    "#         tag_map['V'] = wn.VERB\n",
    "#         tag_map['R'] = wn.ADV\n",
    "#         for index,entry in enumerate(Corpus['reviewText']):\n",
    "#             # Declaring Empty List to store the words that follow the rules for this step\n",
    "#             Final_words = []\n",
    "#             # Initializing WordNetLemmatizer()\n",
    "#             word_Lemmatized = WordNetLemmatizer()\n",
    "#             # pos_tag function below will provide the 'tag' i.e if the word is Noun(N) or Verb(V) or something else.\n",
    "#             for word, tag in pos_tag(entry):\n",
    "#                 # Below condition is to check for Stop words and consider only alphabets\n",
    "#                 if word not in stopwords.words('english') and word.isalpha():\n",
    "#                     word_Final = word_Lemmatized.lemmatize(word,tag_map[tag[0]])\n",
    "#                     Final_words.append(word_Final)\n",
    "#             # The final processed set of words for each iteration will be stored in 'text_final'\n",
    "#             Corpus.loc[index,'text_final'] = str(Final_words)\n",
    "            \n",
    "#         #Print the first 3 rows\n",
    "#         print(Corpus.iloc[:3])\n",
    "#         print(\"hey yo\")\n",
    "                                                            \n",
    "# def my_function():                                          \n",
    "# #[1.5] Reduce number of classes\n",
    "#         for index,entry in enumerate(Corpus['overall']):\n",
    "#              if entry == 1.0 or entry == 2.0:\n",
    "#                  Corpus.loc[index,'overall_final'] = -1\n",
    "#              elif entry == 3.0:\n",
    "#                  Corpus.loc[index,'overall_final'] = 0\n",
    "#              elif entry == 4.0 or entry == 5.0:\n",
    "#                  Corpus.loc[index,'overall_final'] = 1"
   ]
  },
  {
   "cell_type": "code",
   "execution_count": null,
   "metadata": {},
   "outputs": [],
   "source": []
  }
 ],
 "metadata": {
  "kernelspec": {
   "display_name": "Python 3",
   "language": "python",
   "name": "python3"
  },
  "language_info": {
   "codemirror_mode": {
    "name": "ipython",
    "version": 3
   },
   "file_extension": ".py",
   "mimetype": "text/x-python",
   "name": "python",
   "nbconvert_exporter": "python",
   "pygments_lexer": "ipython3",
   "version": "3.6.5"
  }
 },
 "nbformat": 4,
 "nbformat_minor": 2
}
